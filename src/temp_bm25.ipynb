{
 "cells": [
  {
   "cell_type": "code",
   "execution_count": 1,
   "metadata": {},
   "outputs": [],
   "source": [
    "import re\n",
    "from nltk.corpus import stopwords\n",
    "from nltk.stem import PorterStemmer\n",
    "from nltk.tokenize import word_tokenize"
   ]
  },
  {
   "cell_type": "code",
   "execution_count": 2,
   "metadata": {},
   "outputs": [],
   "source": [
    "def preprocess_text(\n",
    "    text: str, index: int = 0, print_progress: bool = True, print_freq: int = 100\n",
    ") -> str:\n",
    "    if type(text) != str:\n",
    "        return \"\"\n",
    "    if print_progress and index and index % print_freq == 0:\n",
    "        print(f\"Processing document {index}\", flush=True)\n",
    "\n",
    "    # Initialize stop words and stemmer\n",
    "    stop_words = set(stopwords.words(\"dutch\"))\n",
    "    stemmer = PorterStemmer()\n",
    "\n",
    "    # Remove punctuation\n",
    "    text = re.sub(r\"[^\\w\\s]\", \"\", text)\n",
    "    # Remove unnecessary whitespaces\n",
    "    text = re.sub(r\"\\s+\", \" \", text).strip()\n",
    "\n",
    "    # Tokenize\n",
    "    tokens = word_tokenize(text)\n",
    "\n",
    "    # Remove stop words and stem\n",
    "    return \" \".join([stemmer.stem(word) for word in tokens if word not in stop_words])"
   ]
  },
  {
   "cell_type": "code",
   "execution_count": 3,
   "metadata": {},
   "outputs": [
    {
     "name": "stdout",
     "output_type": "stream",
     "text": [
      "                                  page_id                    document_id  \\\n",
      "0  nl.mnre1153.2i.2023.674.doc.2.pagina.1  nl.mnre1153.2i.2023.674.doc.2   \n",
      "1  nl.mnre1153.2i.2023.674.doc.2.pagina.2  nl.mnre1153.2i.2023.674.doc.2   \n",
      "2  nl.mnre1153.2i.2023.674.doc.2.pagina.3  nl.mnre1153.2i.2023.674.doc.2   \n",
      "3  nl.mnre1153.2i.2023.674.doc.2.pagina.4  nl.mnre1153.2i.2023.674.doc.2   \n",
      "4  nl.mnre1153.2i.2023.674.doc.2.pagina.5  nl.mnre1153.2i.2023.674.doc.2   \n",
      "\n",
      "                dossier_id                                           bodyText  \\\n",
      "0  nl.mnre1153.2i.2023.674      Intern gebruik    Conclusie: Afwijzen, voo...   \n",
      "1  nl.mnre1153.2i.2023.674      Intern gebruik    - 170 meter heg    Op bl...   \n",
      "2  nl.mnre1153.2i.2023.674      Intern gebruik    5.1.2.e worden gerealise...   \n",
      "3  nl.mnre1153.2i.2023.674      Intern gebruik    - Ze vragen 35 producten...   \n",
      "4  nl.mnre1153.2i.2023.674      Intern gebruik    - Bij de kosten van 5.1....   \n",
      "\n",
      "      type                                          publisher  \\\n",
      "0  bijlage  Ministerie Van Landbouw, Natuur En Voedselkwal...   \n",
      "1  bijlage  Ministerie Van Landbouw, Natuur En Voedselkwal...   \n",
      "2  bijlage  Ministerie Van Landbouw, Natuur En Voedselkwal...   \n",
      "3  bijlage  Ministerie Van Landbouw, Natuur En Voedselkwal...   \n",
      "4  bijlage  Ministerie Van Landbouw, Natuur En Voedselkwal...   \n",
      "\n",
      "                                              source  \\\n",
      "0  https://open.overheid.nl/documenten/14272f8d-a...   \n",
      "1  https://open.overheid.nl/documenten/14272f8d-a...   \n",
      "2  https://open.overheid.nl/documenten/14272f8d-a...   \n",
      "3  https://open.overheid.nl/documenten/14272f8d-a...   \n",
      "4  https://open.overheid.nl/documenten/14272f8d-a...   \n",
      "\n",
      "                                       processedText  \\\n",
      "0  intern gebruik conclusi afwijzen géén enkel on...   \n",
      "1  intern gebruik 170 meter heg op bladzijd 11 st...   \n",
      "2  intern gebruik 512e gerealiseerd soorten bijla...   \n",
      "3  intern gebruik ze vragen 35 producten up geven...   \n",
      "4  intern gebruik bij kosten 512e overzicht up st...   \n",
      "\n",
      "                                             vectors  \n",
      "0  [0.0, 0.0, 0.0, 0.0, 0.0, 0.0, 0.0, 0.0, 0.0, ...  \n",
      "1  [0.0, 0.0, 0.0, 0.0, 0.0, 0.0, 0.0, 0.0, 0.0, ...  \n",
      "2  [0.0, 0.0, 0.0, 0.0, 0.0, 0.0, 0.0, 0.0, 0.0, ...  \n",
      "3  [0.0, 0.0, 0.0, 0.0, 0.0, 0.0, 0.0, 0.0, 0.0, ...  \n",
      "4  [0.0, 0.0, 0.0, 0.0, 0.0, 0.0, 0.0, 0.0, 0.0, ...  \n"
     ]
    }
   ],
   "source": [
    "import pandas as pd\n",
    "from sklearn.feature_extraction.text import TfidfVectorizer\n",
    "\n",
    "# Load data\n",
    "woo_data = pd.read_csv(\"./docs/12_dossiers_no_requests/woo_merged.csv.gz\")\n",
    "\n",
    "# Filter out NaNs and ensure the index is reset for future operations\n",
    "clean_woo_data = woo_data.dropna(subset=[\"bodyText\"]).reset_index(drop=True)\n",
    "clean_woo_data[\"processedText\"] = clean_woo_data[\"bodyText\"].apply(preprocess_text)\n",
    "\n",
    "# Drop all where publisher is Ministry of Defense\n",
    "clean_woo_data = clean_woo_data[\n",
    "    clean_woo_data[\"publisher\"].str.lower() != \"ministerie van defensie\"\n",
    "]\n",
    "\n",
    "# Generate TF-IDF vectors\n",
    "vectorizer = TfidfVectorizer()\n",
    "tfidf_matrix = vectorizer.fit_transform(clean_woo_data[\"processedText\"])\n",
    "\n",
    "# Convert the TF-IDF matrix to a list of lists, where each list is a document's vector\n",
    "tfidf_lists = tfidf_matrix.toarray().tolist()\n",
    "\n",
    "# Create a new DataFrame to hold the vectors\n",
    "vectors_df = pd.DataFrame({\"vectors\": tfidf_lists})\n",
    "\n",
    "# Merge the original cleaned data with the TF-IDF DataFrame\n",
    "# Ensure the original text data is also a DataFrame with the same index\n",
    "merged = pd.concat([clean_woo_data, vectors_df], axis=1)\n",
    "\n",
    "# Now, 'merged' contains both the original text and the corresponding TF-IDF vectors\n",
    "print(merged.head())"
   ]
  },
  {
   "cell_type": "code",
   "execution_count": 4,
   "metadata": {},
   "outputs": [
    {
     "data": {
      "application/vnd.jupyter.widget-view+json": {
       "model_id": "6282ca0e892e46b29e381c7430bca818",
       "version_major": 2,
       "version_minor": 0
      },
      "text/plain": [
       "VBox(children=(Label(value='Spotlight running on http://127.0.0.1:62491/'), HBox(children=(Button(description=…"
      ]
     },
     "metadata": {},
     "output_type": "display_data"
    }
   ],
   "source": [
    "from renumics import spotlight\n",
    "\n",
    "spotlight.show(merged)"
   ]
  }
 ],
 "metadata": {
  "kernelspec": {
   "display_name": ".venv",
   "language": "python",
   "name": "python3"
  },
  "language_info": {
   "codemirror_mode": {
    "name": "ipython",
    "version": 3
   },
   "file_extension": ".py",
   "mimetype": "text/x-python",
   "name": "python",
   "nbconvert_exporter": "python",
   "pygments_lexer": "ipython3",
   "version": "3.11.8"
  }
 },
 "nbformat": 4,
 "nbformat_minor": 2
}
