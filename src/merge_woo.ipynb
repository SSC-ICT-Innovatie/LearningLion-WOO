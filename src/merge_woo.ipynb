{
 "cells": [
  {
   "cell_type": "code",
   "execution_count": null,
   "metadata": {},
   "outputs": [],
   "source": [
    "import pandas as pd\n",
    "import glob\n",
    "\n",
    "# Load all bodytext files and concatenate them into a single DataFrame\n",
    "bodytext_files = glob.glob(\"woo_bodytext_*.csv.gz\")\n",
    "bodytext_df = pd.concat([pd.read_csv(file, compression='gzip') for file in bodytext_files])\n",
    "\n",
    "# Save the concatenated DataFrame to a single compressed CSV file\n",
    "bodytext_df.to_csv(\"woo_bodytext.csv.gz\", index=False, compression=\"gzip\")\n",
    "\n",
    "print(\"Combined file 'woo_bodytext.csv.gz' created successfully.\")"
   ]
  },
  {
   "cell_type": "code",
   "execution_count": null,
   "metadata": {},
   "outputs": [],
   "source": [
    "import pandas as pd\n",
    "\n",
    "# Note: this might error if you don't have enough ram to load the files\n",
    "bodytext_df = pd.read_csv(\"woo_bodytext.csv.gz\", compression='gzip')\n",
    "document_df = pd.read_csv(\"woo_documents.csv.gz\", compression='gzip')\n",
    "dossier_df = pd.read_csv(\"woo_dossiers.csv.gz\", compression='gzip')\n",
    "\n",
    "bodytext_df = bodytext_df.add_prefix(\"bodytext_\")\n",
    "document_df = document_df.add_prefix(\"document_\")\n",
    "dossier_df = dossier_df.add_prefix(\"dossier_\")\n",
    "\n",
    "bodytext_df.insert(0, \"foi_paginaId_pagina\", bodytext_df[\"bodytext_foi_documentId\"] + \".pagina.\" + bodytext_df[\"bodytext_foi_pageNumber\"].astype(str))\n",
    "\n",
    "merged_df = pd.merge(\n",
    "    bodytext_df,\n",
    "    document_df,\n",
    "    left_on=\"bodytext_foi_documentId\",\n",
    "    right_on=\"document_dc_identifier\",\n",
    "    how=\"left\"\n",
    ")\n",
    "merged_df = pd.merge(\n",
    "    merged_df,\n",
    "    dossier_df,\n",
    "    left_on=\"document_foi_dossierId\",\n",
    "    right_on=\"dossier_dc_identifier\",\n",
    "    how=\"left\"\n",
    ")\n",
    "\n",
    "merged_df.to_csv(\"woo_merged.csv.gz\", index=False, compression=\"gzip\")\n",
    "\n",
    "print(\"Merged file 'woo_merged.csv.gz' created successfully.\")\n"
   ]
  }
 ],
 "metadata": {
  "kernelspec": {
   "display_name": ".venv",
   "language": "python",
   "name": "python3"
  },
  "language_info": {
   "codemirror_mode": {
    "name": "ipython",
    "version": 3
   },
   "file_extension": ".py",
   "mimetype": "text/x-python",
   "name": "python",
   "nbconvert_exporter": "python",
   "pygments_lexer": "ipython3",
   "version": "3.11.8"
  }
 },
 "nbformat": 4,
 "nbformat_minor": 2
}
