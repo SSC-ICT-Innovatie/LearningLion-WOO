{
 "cells": [
  {
   "cell_type": "code",
   "execution_count": 94,
   "metadata": {},
   "outputs": [],
   "source": [
    "import pandas as pd\n",
    "import re\n",
    "import textwrap\n",
    "from common.evaluate_helpers import preprocess_text as preprocess_text_bm25\n",
    "from nltk.tokenize import word_tokenize\n",
    "from tabulate import tabulate\n",
    "\n",
    "# Set display options to show full content of each column\n",
    "pd.set_option(\"display.max_colwidth\", None)\n",
    "\n",
    "\n",
    "def preprocess_text(text: str) -> str:\n",
    "    if type(text) != str:\n",
    "        return \"\"\n",
    "\n",
    "    # Remove punctuation\n",
    "    text = re.sub(r\"[^\\w\\s]\", \"\", text)\n",
    "    # Remove unnecessary whitespaces\n",
    "    text = re.sub(r\"\\s+\", \" \", text).strip()\n",
    "\n",
    "    # Tokenize\n",
    "    tokens = word_tokenize(text)\n",
    "\n",
    "    # Remove stop words and stem\n",
    "    return \" \".join([word for word in tokens])"
   ]
  },
  {
   "cell_type": "code",
   "execution_count": 92,
   "metadata": {},
   "outputs": [],
   "source": [
    "MINISTRY = \"minbzk\"\n",
    "\n",
    "woo_data = pd.read_csv(f\"./docs_ministries_full/{MINISTRY}/woo_merged.csv.gz\")"
   ]
  },
  {
   "cell_type": "markdown",
   "metadata": {},
   "source": [
    "### Display all corresponding documents"
   ]
  },
  {
   "cell_type": "code",
   "execution_count": 100,
   "metadata": {},
   "outputs": [
    {
     "name": "stdout",
     "output_type": "stream",
     "text": [
      "+----+------------------------+--------------------------------+---------+-----------------------------------------------------------------------------------------------------------------------------------------------------------------------------+\n",
      "|    | dossier_id             | document_id                    | type    | source                                                                                                                                                                      |\n",
      "|----+------------------------+--------------------------------+---------+-----------------------------------------------------------------------------------------------------------------------------------------------------------------------------|\n",
      "|  0 | nl.mnre1034.2i.2021.69 | nl.mnre1034.2i.2021.69.misc.1  | besluit | https://open.overheid.nl/repository/ronl-9979d8d4-3bae-4b5b-96c9-048ead254006/1/pdf/Besluit%20Wob-verzoek%20over%20vuurwerkramp%20Enschede.pdf                              |\n",
      "|  1 | nl.mnre1034.2i.2021.69 | nl.mnre1034.2i.2021.69.misc.2  | bijlage | https://open.overheid.nl/repository/ronl-ce0e7b34-6619-4376-be3c-f6ff1fdf8bc0/1/pdf/Bijlage%20deel%201%20bij%20Besluit%20Wob-verzoek%20over%20vuurwerkramp%20Enschede.pdf   |\n",
      "|  2 | nl.mnre1034.2i.2021.69 | nl.mnre1034.2i.2021.69.misc.3  | bijlage | https://open.overheid.nl/repository/ronl-e9c70c00-b8b4-43ab-814e-f217822ff931/1/pdf/Bijlage%20deel%202%20bij%20Besluit%20Wob-verzoek%20over%20vuurwerkramp%20Enschede.pdf   |\n",
      "|  3 | nl.mnre1034.2i.2021.69 | nl.mnre1034.2i.2021.69.misc.4  | bijlage | https://open.overheid.nl/repository/ronl-77614140-ab8f-4d8c-9c8d-c78e79f7e8c4/1/pdf/Bijlage%20deel%203%20bij%20Besluit%20Wob-verzoek%20over%20vuurwerkramp%20Enschede.pdf   |\n",
      "|  4 | nl.mnre1034.2i.2021.69 | nl.mnre1034.2i.2021.69.misc.5  | bijlage | https://open.overheid.nl/repository/ronl-7c505142-6507-4493-986d-53d6b6137565/1/pdf/Bijlage%20deel%204%20bij%20Besluit%20Wob-verzoek%20over%20vuurwerkramp%20Enschede.pdf   |\n",
      "|  5 | nl.mnre1034.2i.2021.69 | nl.mnre1034.2i.2021.69.misc.6  | bijlage | https://open.overheid.nl/repository/ronl-6fce0b68-5e31-4506-bb6f-d09370f17a72/1/pdf/Bijlage%20deel%205%20bij%20Besluit%20Wob-verzoek%20over%20vuurwerkramp%20Enschede.pdf   |\n",
      "|  6 | nl.mnre1034.2i.2021.69 | nl.mnre1034.2i.2021.69.misc.7  | bijlage | https://open.overheid.nl/repository/ronl-1baac64e-496c-4190-ba75-b0d6c67d35e6/1/pdf/Bijlage%20deel%206%20bij%20Besluit%20Wob-verzoek%20over%20vuurwerkramp%20Enschede.pdf   |\n",
      "|  7 | nl.mnre1034.2i.2021.69 | nl.mnre1034.2i.2021.69.misc.8  | bijlage | https://open.overheid.nl/repository/ronl-78aea3f3f3353fcad10d3e627c1f84666f035007/1/pdf/Bijlagen%20bij%20beslissing%20op%20bezwaar%20Deel%201%20vuurwerkramp%20Enschede.pdf |\n",
      "|  8 | nl.mnre1034.2i.2021.69 | nl.mnre1034.2i.2021.69.misc.9  | bijlage | https://open.overheid.nl/repository/ronl-559358e4688411c4498bde442081a31fcd9e8dd3/1/pdf/Bijlagen%20bij%20beslissing%20op%20bezwaar%20Deel%202%20vuurwerkramp%20Enschede.pdf |\n",
      "|  9 | nl.mnre1034.2i.2021.69 | nl.mnre1034.2i.2021.69.misc.10 | bijlage | https://open.overheid.nl/repository/ronl-ab9f1684d4941a00fbd688659d8e1ca11479ea58/1/pdf/Bijlagen%20bij%20beslissing%20op%20bezwaar%20Deel%203%20vuurwerkramp%20Enschede.pdf |\n",
      "+----+------------------------+--------------------------------+---------+-----------------------------------------------------------------------------------------------------------------------------------------------------------------------------+\n"
     ]
    }
   ],
   "source": [
    "DOSSIER = \"nl.mnre1034.2i.2021.69\"\n",
    "TYPES = [\"all\"]\n",
    "# TYPES = [\"verzoek\", \"besluit\"]\n",
    "# TYPES = [\"bijlage\", \"inventaris\"]\n",
    "RELEVANT_COLUMNS = [\"dossier_id\", \"type\", \"source\"]\n",
    "RELEVANT_DISPLAY_COLUMNS = [\"dossier_id\", \"document_id\", \"type\", \"source\"]\n",
    "\n",
    "\n",
    "if \"all\" in TYPES:\n",
    "    filtered_data = woo_data[(woo_data[\"dossier_id\"] == DOSSIER)]\n",
    "else:\n",
    "    filtered_data = woo_data[(woo_data[\"type\"].isin(TYPES)) & (woo_data[\"dossier_id\"] == DOSSIER)]\n",
    "\n",
    "# Explicitly copy the filtered DataFrame to avoid SettingWithCopyWarning when modifying it.\n",
    "filtered_data = filtered_data[RELEVANT_DISPLAY_COLUMNS].copy()\n",
    "filtered_data.drop_duplicates(inplace=True, subset=RELEVANT_COLUMNS)\n",
    "filtered_data.reset_index(inplace=True, drop=True)\n",
    "\n",
    "print(tabulate(filtered_data, headers=RELEVANT_DISPLAY_COLUMNS, tablefmt=\"psql\"))"
   ]
  },
  {
   "cell_type": "markdown",
   "metadata": {},
   "source": [
    "### Display the bodytext of a page"
   ]
  },
  {
   "cell_type": "code",
   "execution_count": 99,
   "metadata": {},
   "outputs": [
    {
     "name": "stdout",
     "output_type": "stream",
     "text": [
      "eben ni all kel ull vatum la jul uv rapport dossiermeldingactiviteit bladnr t activiteit t activiteit kao eod cee uur dcbc gee po co poo kgg golfci lost deltaci is eigen mensen deltaci gebeurd de peloton geregeld lost peloton me politi deltaci uur uur bey cod cap ee nh meldt me geregeld kennemerland ievert om uur ís geschakeld belangrijk bij overdracht en verder op te pakken extra peloton zijn geregeld zh levert heden van tot uur nh morgen vanaf uur tot uur let op atw bij bijstand me vanuit zh en nh commentaar gekregen dcbc wil weten hoe nu verder in de komend dagen pcc overijssel wil graag schriftelijk bevestig dat de extra me peloton politi worden en geen kmar iei uit ge laamem wil schriftelijk sitrap graag toegefaxt krijgen bez eel nh vraagt of de verbindingscommandoauto ook mee moet omdat gevraagd wordt eigen vebindigsnmiddelen mee te nemen nog niet nagevraagd bij overijssel be vom kan nog terugbellen svp informati meegeven van meld uur me ct in telefoon diversen kkrrrkraaaraakraarkarakkranrkaaerrk kakera raaka akk ek afgedaan stass bzk nat rampenfond mei stass vriesaandacht finhulpverlnazorg hij verzoekt bezien geld beschikbaar nationa rampenfond contact nemen vw inzak aanbod central psychosocial nazorg afgesproken eea uitzetten directi brandweer mere in telefoon staatssecretari vri kkk kirk kk kkh keke there rrr rerhekarekekkehkarerekkekkeer afgedaan mbsarp piket mei mei mei piketverslag inzak ramp ensched maandag mei mei uur informatieoverdracht ze cl er openstaand actiepunten indien dienstverband bijstand brandweer gecancel uur tevoren gemeld er verschuivingen bijstand politi me laatst svz duidelijk gemaakt dcbc meldt morgenochtend uur overzicht daadwerkelijk inzet defensi\n",
      "eben ni all kel ull vatum la jul uv rapport dossiermeldingactiviteit bladnr t activiteit t activiteit kao eod cee uur dcbc gee po co poo kgg\n",
      "golfci lost deltaci is eigen mensen deltaci gebeurd de peloton geregeld lost peloton me politi deltaci uur uur bey cod cap ee nh meldt me\n",
      "geregeld kennemerland ievert om uur ís geschakeld belangrijk bij overdracht en verder op te pakken extra peloton zijn geregeld zh levert\n",
      "heden van tot uur nh morgen vanaf uur tot uur let op atw bij bijstand me vanuit zh en nh commentaar gekregen dcbc wil weten hoe nu verder in\n",
      "de komend dagen pcc overijssel wil graag schriftelijk bevestig dat de extra me peloton politi worden en geen kmar iei uit ge laamem wil\n",
      "schriftelijk sitrap graag toegefaxt krijgen bez eel nh vraagt of de verbindingscommandoauto ook mee moet omdat gevraagd wordt eigen\n",
      "vebindigsnmiddelen mee te nemen nog niet nagevraagd bij overijssel be vom kan nog terugbellen svp informati meegeven van meld uur me ct in\n",
      "telefoon diversen kkrrrkraaaraakraarkarakkranrkaaerrk kakera raaka akk ek afgedaan stass bzk nat rampenfond mei stass vriesaandacht\n",
      "finhulpverlnazorg hij verzoekt bezien geld beschikbaar nationa rampenfond contact nemen vw inzak aanbod central psychosocial nazorg\n",
      "afgesproken eea uitzetten directi brandweer mere in telefoon staatssecretari vri kkk kirk kk kkh keke there rrr\n",
      "rerhekarekekkehkarerekkekkeer afgedaan mbsarp piket mei mei mei piketverslag inzak ramp ensched maandag mei mei uur informatieoverdracht ze\n",
      "cl er openstaand actiepunten indien dienstverband bijstand brandweer gecancel uur tevoren gemeld er verschuivingen bijstand politi me laatst\n",
      "svz duidelijk gemaakt dcbc meldt morgenochtend uur overzicht daadwerkelijk inzet defensi\n"
     ]
    }
   ],
   "source": [
    "PAGE = \"nl.mnre1034.2i.2021.69.misc.5.pagina.13\"\n",
    "RELEVANT_DISPLAY_COLUMNS = [\"bodyText\"]\n",
    "\n",
    "\n",
    "filtered_data = woo_data[(woo_data[\"page_id\"] == PAGE)]\n",
    "filtered_data = filtered_data[RELEVANT_DISPLAY_COLUMNS].copy()\n",
    "filtered_data.reset_index(inplace=True, drop=True)\n",
    "\n",
    "all_text = \" \".join(filtered_data[\"bodyText\"].astype(str))\n",
    "# processed_text = preprocess_text(all_text)\n",
    "processed_text = \" \".join(preprocess_text_bm25(all_text))\n",
    "\n",
    "print(textwrap.fill(processed_text, width=140))"
   ]
  },
  {
   "cell_type": "markdown",
   "metadata": {},
   "source": [
    "### Display the bodytext of a document"
   ]
  },
  {
   "cell_type": "code",
   "execution_count": 78,
   "metadata": {},
   "outputs": [
    {
     "name": "stdout",
     "output_type": "stream",
     "text": [
      "Dienst Justitiële Inrichtingen Ministerie van Veiligheid en Justitie Retouradres Postbus 30132 2500 GC Den Haag Directie Beleid\n",
      "Bestuursondersteuning Juridische Zaken ADR Nieuwmedia Turfmarkt 147 2511 DP Den Haag Postbus 30132 2500 CC Den Haag www dj 1 fl1\n",
      "Contactpersoon Alleen oer email Ons kenmerk 2164748 Datum 9 mei 2018 Bijlage Onderwerp Uw Wob verzoek om inzage in\n",
      "medewerkerstevredenheidsonderzoeken Bq beantwoording de datum en ons kenmerk vermelden Wilt u slechts één zaak in uw brief behandelen\n",
      "Geachte heel__________________ Bij brief van 29 november 2017 door mij ontvangen op 1 december 2017 verzoekt u op grond van de Wet\n",
      "openbaarheid bestuur de Wob om inzage in alle gerapporteerde medewerkerstvredenheidsonderzoeken hierna MTOs die zijn gehouden onder de\n",
      "medewerkers van de Pls Haaglanden en Pl Vught in de jaren 2016 en 2017 Bij brief van 8 december 2017 heb ik de ontvangst van uw verzoek\n",
      "bevestigd en bij brief van 22 december 2017 heb ik het besluit op uw verzoek verdaagd met vier weken Op 22 maart 2018 is met u telefonisch\n",
      "gesproken over de voortgang van het besluit op uw verzoek U bent geïnformeerd dat de verwachting is dat het besluit u binnen enkele weken\n",
      "toegezonden kan worden Indien dit toch niet haalbaar blijkt wordt u hiervan op de hoogte gehouden Tevens is met u afgesproken voor\n",
      "publicatie op de websfte telefonisch contact met u op te nemen in verband met het afstemmen van een publicatie termijn Uw Wobverzoek U\n",
      "verzoekt om informatie omtrent alle gerapporteerde MTOs die zijn gehouden onder de medewerkers van Pl Haaglanden en Pl Vught over de jaren\n",
      "2016 en 2017 Daarbij specificeert u dat het u gaat om alle vestigingen en teams die officieel vallen onder deze Pls waaronder de inrichting\n",
      "in Scheveningen Toetsingskader Uw verzoek heb ik beoordeeld aan de hand van de Wob Uitgangspunt van de Wob is dat er in het belang van een\n",
      "goede en democratische bestuursvoering voor degene die om informatie verzoekt een recht op openbaarmaking van de informatie bestaat\n",
      "Informatieverstrekking bi ijft echter achterwege wanneer zich één of meer van de in de artikelen 10 en 11 van de wet genoemde\n",
      "uitzonderingsgronden of beperkingen voordoen Pagina 1 van 5 Het recht op openbaarmaking op grond van de Wob dient het publieke belang van\n",
      "Directie een goede en democratische bestuursvoering welk belang de Wob vooronderstelt Daarom kan ten aanzien van de openbaarheid geen\n",
      "onderscheid gemaakt worden naar gelang de persoon of de oogmerken van de verzoeker Bij Datum de te verrichten belangenafweging worden dan\n",
      "ook betrokken het algemene of mei 2018 publieke belang bij openbaarmaking van de gevraagde informatie en de door de OnS kenmerk\n",
      "weigeringsgronden te beschermen belangen maar niet het specifieke belang van 2164748 de verzoeker Wanneer deze belangenafweging leidt tot\n",
      "het oordeel dat cle gevraagde informatie geheel of gedeeltelijk verstrekt moet worden betekent dit dat niet alleen de verzoeker maar\n",
      "iedereen die dat wenst van deze informatie kennis kan nemen Inventarisatie documenten Van het jaar 2016 zijn geen meetresultaten beschikbaar\n",
      "nu in dat jaar geen MTO heeft plaatsgevonden Van het jaar 2017 zijn wel MTO meetresultaten beschikbaar Doordat de MTO 2017 digitaal is\n",
      "afgenomen zijn de meetresultaten opgeslagen in een digitale databank Vanuit deze digitale databank kan aan de hand van een zoekvraag een\n",
      "specifieke selectie gemaakt worden aan de hand waarvan vervolgens een schriftelijke uitdraai kan worden gemaakt van de verzochte informatie\n",
      "op verschillende niveaus Naar aanleiding van uw verzoek is cle aangetroffen informatie getoetst aan de Wet openbaarheid bestuur en is na\n",
      "deze toetsing een selectie gemaakt in de databank van de wel openbaar te maken informatie Deze informatie betreft de MTO resultaten 2017 op\n",
      "Pl niveau Besluit omtrent openbaarmaking De gevraagde informatie maak ik hierbij gedeeltelijk openbaar De reden waarom ik de openbaarmaking\n",
      "van een deel van de informatie weiger geef ik hieronder aan in de motivering Motivering Belang van inspectie con trole en toezicht Op grond\n",
      "van artikel 10 tweede lid aanhef en onder d van de Wob blijft verstrekking van informatie achterwege voor zover het belang daarvan niet\n",
      "opweegt tegen het belang van inspectie toezicht en controle door of vanwege bestuursorganen Een MTO is een leer en verbeterinstrument\n",
      "waarbij gemeten wordt hoe medewerkers van een Pl hun werkomstandigheden beleven en beoordelen Het biedt het management van een Pl alsook het\n",
      "landelijke divisiemanagement inzicht in waar verbeteringen mogelijk zijn ten aanzien van de werkomstandigheden en geeft daarnaast een beeld\n",
      "van de ontwikkeling van een Pl ten opzichte van eerdere jaren of ten opzichte van andere Pls Ik acht het van groot belang dat mijn\n",
      "medewerkers onvoorwaardelijk en zonder terughoudendheid hun medewerking aan dergelijke onderzoeken kunnen blijven verlenen en in dat verband\n",
      "vrijelijk kunnen verklaren over hun werkomstandigheden zonder dat zij behoeven te vrezen dat hun verklaringen aan derden kenbaar worden\n",
      "gemaakt of dat anderszins kenbaar wordt gemaakt dat zij hun medewerking hebben verleend Pagina 2 van 5 In het onderhavige geval heeft het\n",
      "personeel van de Pls Vught en Haaglanden als Directie gezegd vrijwillig meegewerkt aan het MTO op basis van toezegging van volledige\n",
      "anonimiteit Tussen mijn personeel en mij als werkgever bestaat een vertrouwensrelatie waardoor zij erop mogen vertrouwen dat deze toezegging\n",
      "ook Datum gewaarborgd blijft Indien de verzochte informatie openbaar wordt gemaakt mei 2018 bestaat het risico dat mijn medewerkers zich in\n",
      "het vervolg terughoudender zullen Ons kenmerk opstellen of dat zij hun vrijwillige medewerking in de toekomst niet meer zullen 2164748\n",
      "verlenen Dit zou ten koste gaan van de meetfunctie van een MTO voor lering en verbetering van de werkomstandigheden en hierdoor een\n",
      "benadeling vormen voor de medewerkers alsook voor de organisatie van een Pl in zijn geheel Alhoewel de in de rapportages weergegeven\n",
      "onderzoeksresultaten een anoniem cijfermatig overzicht vormen ben ik van mening dat deze resultaten in combinatie met de omschrijving van de\n",
      "herkomst ervan herleidbaar kunnen zijn tot de personen waaronder de meting is gedaan Deze herleidbaarheid vormt een inbreuk op de\n",
      "vertrouwensrelatie tussen mij en mijn medewerkers en doet de toegezegde anonimiteit teniet Op grond hiervan ben ik van mening dat het belang\n",
      "van inspectie controle en toezicht hier zwaarder moet wegen dan het belang van openbaarmaking Reden waarom ik de meetresultaten op Pl niveau\n",
      "openbaar maak en voor het overige weiger Zie ABRvS 27 april 2011 2010081711H3 ECLI NL RVS2011 BQ2643 De openbaar te maken informatie is door\n",
      "specifieke selectie in de gegevensdrager van de meetresultaten op zichzelf zichtbaar gemaakt Bescherming persoonlijke levenssfeer Op grond\n",
      "van artikel 10 tweede lid onder e van de Wob blijft verstrekking van informatie achterwege voor zover het belang van openbaarmaking niet\n",
      "opweegt tegen het belang dat is gediend met de bescherming van de persoonlijke levenssfeer De rapportages bevatten onderzoeksresultaten die\n",
      "gebaseerd zijn op vrijwillige medewerking van Pl medewerkers aan een geanonimiseerd onderzoek Dat het hier gaat om geanonimiseerde gegevens\n",
      "en niet om persoonsgegevens doet hier niet aan af Het schaalniveau van de onderzoeksresultaten is dermate klein dat de resultaten alsnog\n",
      "herleidbaar zijn tot individuele medewerkers Op grond hiervan ben ik van mening dat hier het belang van bescherming van de persoonlijke\n",
      "levenssfeer zwaarder dient te wegen dan het belang van de openbaarheid Reden waarom ik de meetresultaten op Pl niveau wel openbaar maak en\n",
      "ik de openbaarmaking van de meetresultaten vanaf niveau van een afdeling weiger Daaronder vallen de door u in uw verzoek genoemde afdelingen\n",
      "en of teams zoals PPC ZZBI JCvSZ HvB enz In uw brief verzoekt u daarnaast ook specifiek om openbaarmaking van de MTO rapportages van de\n",
      "vestiging Scheveningen Mijn inziens geldt ook hier dat openbaarmaking van de herkomst van de onderzoeksresultaten van de locatie\n",
      "Scheveningen in combinatie met de specifieke omschrijving van teams vallend binnen deze locatie binnen kleine kring leidt tot\n",
      "herleidbaarheid tot individuele medewerkers Daarbij komt dat binnen deze locaties de afdelingen en teams van een dusdanig beperkte omvang\n",
      "zijn dat dit risico extra sterk aanwezig is PaginS 3 van 5 Reden waarom ik de openbaarmaking van de meetresultaten van deze specifieke\n",
      "Directie locatie weiger nu ik van mening ben dat ook hier het belang van eerbiediging van de persoonlijke levenssfeer zwaarder moet wegen\n",
      "dan het belang van de openbaarmaking ervan Datum 9 mei 2018 Zie Ons kenmerk ABRvS 27 april 2011 2010081711H3 ECLINLRVS2011BQ2643 2164748 De\n",
      "openbaar te maken informatie is door specifieke selectie in de gegevensdrager van de meetresultaten op zichzelf zichtbaar gemaakt Het belang\n",
      "van het voorkomen van onevenredige bevoordeling of benadeling Op grond van artikel 10 tweede lid aanhef en onder g van de Wob blijft het\n",
      "verstrekken van informatie achterwege voor zover het belang daarvan niet opweegt tegen het belang van het voorkomen van onevenredige\n",
      "bevoordeling of benadeling van de bij de aangelegenheid betrokken natuurlijke personen of rechtspersonen dan wel van derden Als eerder\n",
      "gesteld is een MTO een leer en verbeterinstrument waarbij de vrijwillige medewerking van het personeel van de Pls van essentieel belang is\n",
      "voor een representatief inzicht voor het management in hoe de werkomstandigheden worden beleefd en waar leeren verbeterpunten liggen\n",
      "Openbaarmaking plaatst de toegezegde vertrouwelijkheid en anonimiteit onder druk en verkleint de bereidheid van mijn personeel om mee te\n",
      "willen werken aan deze onderzoeken in de toekomst Dit vormt voor mijn medewerkers voor de Pls en voor mijn Ministerie een onevenredige\n",
      "benadeling Reden waarom ik van mening ben dat het belang van het voorkomen van deze onevenredige benadeling zwaarder weegt dan het belang\n",
      "van het openbaarmaken van de betreffende informatie Ik maak daarom alleen de meetresultaten op Pl niveau openbaar en weiger de\n",
      "openbaarmaking van de meetresultaten vanaf het niveau van een afdeling Daaronder vallen de door u in uw verzoek genoemde afdelingen en of\n",
      "teams zoals PPC ZZBI JCvSZ HvB enz De openbaar te maken informatie is door specifieke selectie in de gegevensdrager van de meetresultaten op\n",
      "zichzelf zichtbaar gemaakt Plaatsing op internet Dit besluit en de daarbij openbaar gemaakte stukken worden op wwwrijksoverheidnl geplaatst\n",
      "Met vriendelijke groet De Minister voor Rechtsbescherming namens deze Wnd Hoofddirecteur Dienst Justitiele Inrichtingen Pagina 4 van 5\n",
      "Binnen zes weken kan een belanghebbende op grond van de Algemene wet bestuursrecht tegen dit besluit Directie Bestuursondersteuning bezwaar\n",
      "maken Het bezwaarschrift moet zijn ondertekend en bevat tenminste de naam en het adres van de Juridische Zaken indiener de dagtekening een\n",
      "omschrijving van het besluit waartegen het bezwaar is gericht en de gronden van het bezwaar Het bezwaarschrift moet worden gericht aan de\n",
      "Dienst Justitiële Inrichtingen afdeling Juridische Datum zaken Postbus 311132 2500 GC Den Haag mei 2018 Ons kenmerk 2164748 Pagina 5 van S\n"
     ]
    }
   ],
   "source": [
    "DOCUMENT = \"nl.mnre1058.2i.2018.37.doc.2\"\n",
    "RELEVANT_DISPLAY_COLUMNS = [\"bodyText\"]\n",
    "\n",
    "\n",
    "filtered_data = woo_data[(woo_data[\"document_id\"] == DOCUMENT)]\n",
    "filtered_data = filtered_data[RELEVANT_DISPLAY_COLUMNS].copy()\n",
    "filtered_data.reset_index(inplace=True, drop=True)\n",
    "\n",
    "# Apply preprocessing to each text entry\n",
    "filtered_data[\"bodyText\"] = filtered_data[\"bodyText\"].apply(preprocess_text)\n",
    "\n",
    "all_text = \" \".join(filtered_data[\"bodyText\"])\n",
    "\n",
    "print(textwrap.fill(all_text, width=140))"
   ]
  }
 ],
 "metadata": {
  "kernelspec": {
   "display_name": ".venv",
   "language": "python",
   "name": "python3"
  },
  "language_info": {
   "codemirror_mode": {
    "name": "ipython",
    "version": 3
   },
   "file_extension": ".py",
   "mimetype": "text/x-python",
   "name": "python",
   "nbconvert_exporter": "python",
   "pygments_lexer": "ipython3",
   "version": "3.11.8"
  }
 },
 "nbformat": 4,
 "nbformat_minor": 2
}
