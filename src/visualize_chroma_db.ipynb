{
 "cells": [
  {
   "cell_type": "code",
   "execution_count": 5,
   "metadata": {},
   "outputs": [
    {
     "name": "stderr",
     "output_type": "stream",
     "text": [
      "No sentence-transformers model found with name GroNLP/bert-base-dutch-cased. Creating a new one with MEAN pooling.\n",
      "c:\\Users\\Nicky\\Desktop\\Repositories\\Master Thesis\\Master-Thesis\\.venv\\Lib\\site-packages\\huggingface_hub\\file_download.py:1132: FutureWarning: `resume_download` is deprecated and will be removed in version 1.0.0. Downloads always resume when possible. If you want to force a new download, use `force_download=True`.\n",
      "  warnings.warn(\n",
      "Some weights of BertModel were not initialized from the model checkpoint at GroNLP/bert-base-dutch-cased and are newly initialized: ['bert.pooler.dense.bias', 'bert.pooler.dense.weight']\n",
      "You should probably TRAIN this model on a down-stream task to be able to use it for predictions and inference.\n"
     ]
    },
    {
     "name": "stdout",
     "output_type": "stream",
     "text": [
      "[Info] ~ Loaded local embeddings: GroNLP/bert-base-dutch-cased\n"
     ]
    }
   ],
   "source": [
    "import os\n",
    "import pandas as pd\n",
    "from common.embeddings import getEmbeddings\n",
    "from langchain.vectorstores import Chroma\n",
    "from renumics import spotlight\n",
    "\n",
    "\n",
    "embedding_author = \"GroNLP\"\n",
    "embedding_function = \"bert-base-dutch-cased\"\n",
    "embeddings_provider = \"local_embeddings\"\n",
    "complete_embedding_function = f\"{embedding_author}/{embedding_function}\"\n",
    "vector_db_folder = f\"./vector_stores/12_dossiers_no_requests_chromadb_1024_256_local_embeddings_GroNLP/bert-base-dutch-cased\"\n",
    "base_collection_name = \"12_dossiers_no_requests\"\n",
    "\n",
    "# If vector store folder does not exist, stop\n",
    "if not os.path.exists(vector_db_folder):\n",
    "    raise FileNotFoundError(\n",
    "        f\"Vector store folder {vector_db_folder} does not exist, please run 'python ingest.py'.\"\n",
    "    )\n",
    "\n",
    "embeddings = getEmbeddings(embeddings_provider, complete_embedding_function)\n",
    "\n",
    "main_vector_store = Chroma(\n",
    "    collection_name=base_collection_name,\n",
    "    embedding_function=embeddings,\n",
    "    persist_directory=vector_db_folder,\n",
    "    collection_metadata={\"hnsw:space\": \"cosine\"},\n",
    ")\n",
    "\n",
    "response = main_vector_store.get(include=[\"metadatas\", \"documents\", \"embeddings\"])\n",
    "df = pd.DataFrame(\n",
    "    {\n",
    "        \"id\": response[\"ids\"],\n",
    "        \"source\": [metadata.get(\"source\") for metadata in response[\"metadatas\"]],\n",
    "        \"page\": [metadata.get(\"page\", -1) for metadata in response[\"metadatas\"]],\n",
    "        \"document\": response[\"documents\"],\n",
    "        \"embedding\": response[\"embeddings\"],\n",
    "        \"publisher\": [metadata.get(\"publisher\") for metadata in response[\"metadatas\"]],\n",
    "    }\n",
    ")\n",
    "\n",
    "# Filter out documents from the Ministry of Defense\n",
    "df = df[df[\"publisher\"].str.lower() != \"ministerie van defensie\"]"
   ]
  },
  {
   "cell_type": "code",
   "execution_count": 6,
   "metadata": {},
   "outputs": [
    {
     "data": {
      "application/vnd.jupyter.widget-view+json": {
       "model_id": "dab37681d36243b5b68f725f98d3fee9",
       "version_major": 2,
       "version_minor": 0
      },
      "text/plain": [
       "VBox(children=(Label(value='Spotlight running on http://127.0.0.1:50493/'), HBox(children=(Button(description=…"
      ]
     },
     "metadata": {},
     "output_type": "display_data"
    }
   ],
   "source": [
    "spotlight.show(df)"
   ]
  }
 ],
 "metadata": {
  "kernelspec": {
   "display_name": ".venv",
   "language": "python",
   "name": "python3"
  },
  "language_info": {
   "codemirror_mode": {
    "name": "ipython",
    "version": 3
   },
   "file_extension": ".py",
   "mimetype": "text/x-python",
   "name": "python",
   "nbconvert_exporter": "python",
   "pygments_lexer": "ipython3",
   "version": "3.11.8"
  }
 },
 "nbformat": 4,
 "nbformat_minor": 2
}
